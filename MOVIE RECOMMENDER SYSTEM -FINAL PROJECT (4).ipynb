{
 "cells": [
  {
   "cell_type": "markdown",
   "id": "6a2138d5",
   "metadata": {},
   "source": [
    "# MOVIE RECOMMENDER SYSTEM -FINAL PROJECT"
   ]
  },
  {
   "cell_type": "markdown",
   "id": "bf33b483",
   "metadata": {},
   "source": [
    "**Overview**"
   ]
  },
  {
   "cell_type": "markdown",
   "id": "e04c7de1",
   "metadata": {},
   "source": [
    "Congratulations!!!! for making it so far. This is the Certification Project for Data Science and Machine Learning Internship Program and here we will use all the concepts learned so far in this course."
   ]
  },
  {
   "cell_type": "markdown",
   "id": "90042834",
   "metadata": {},
   "source": [
    "**Context**\n",
    "\n",
    "\n",
    "Over the past two decades, there has been a monumental shift in how people access and consume video content. With the universal access to broadband internet, numerous platforms like YouTube, Netflix, and HBO Go emerged and steadily grew to prominence.\n",
    "Although not a household name in itself, OTT is the exact technology that made the streaming revolution possible."
   ]
  },
  {
   "cell_type": "markdown",
   "id": "9882c612",
   "metadata": {},
   "source": [
    "OTT stands for “Over The Top” which refers to any video streaming service delivering content to the users over the internet, however, there are subscription charges associated with the usage of such platforms such as PrimeVideo, Netflix, HotStart, Zee5, SonyLiv, etc.\n",
    "But choosing your next movie to watch can still be a daunting task, even if you have access to all the platforms."
   ]
  },
  {
   "cell_type": "markdown",
   "id": "a9d0e547",
   "metadata": {},
   "source": [
    "**Business Requirement:**\n",
    "    \n",
    "    \n",
    "“MyNextMovie” is a budding startup in the space of recommendations on top of various OTT platforms providing suggestions to its customer base regarding their next movie.\n",
    "\n",
    "\n",
    "Their major business is to create a recommendation layer on top of these OTT platforms so that they can make suitable recommendations to their customers, however, since they are in research mode right now, they would want to experiment with open-source data first to understand the depth of the models which can be delivered by them.\n",
    "\n",
    "\n",
    "The data for this exercise is open-source data that has been collected and made available from the MovieLens website (http://movielens.org), a part of GroupLens\n",
    "\n",
    "\n",
    "Research The data sets were collected over various periods of time, depending on the size of the set.\n",
    "\n",
    "\n",
    "You have recently joined as a Data Scientist at “MyNextMovie” and plan to help the existing team to set up a recommendation platform.\n",
    "\n"
   ]
  },
  {
   "cell_type": "markdown",
   "id": "0fc00454",
   "metadata": {},
   "source": [
    "**Objective:**\n",
    "1. Create a popularity-based recommender system at a genre level. The user will input a genre (g), minimum rating threshold (t) for a movie, and no. of\n",
    "recommendations(N) for which it should be recommended top N movies which are most popular within that genre (g) ordered by ratings in descending order where each movie has at least (t) reviews.\n",
    "Example:\n",
    "    \n",
    "    \n",
    "Input:\n",
    "    \n",
    "\n",
    "• Genre (g) : Comedy\n",
    "    \n",
    "    \n",
    "• Minimum reviews threshold (t) : 100\n",
    "    \n",
    "    \n",
    "• Num recommendations (N) : 5\n",
    "    \n",
    "    "
   ]
  },
  {
   "cell_type": "markdown",
   "id": "a9ae1c76",
   "metadata": {},
   "source": [
    "**2. Create a content-based recommender system that recommends top N movies based on similar movie(m) genres.**\n",
    "Example:\n",
    "    \n",
    "    \n",
    "Input:\n",
    "    \n",
    "    \n",
    "• Movie Title (t): Toy Story\n",
    "    \n",
    "    \n",
    "• Num recommendations (N): 5\n",
    "    \n",
    "    "
   ]
  },
  {
   "cell_type": "markdown",
   "id": "d6472ad0",
   "metadata": {},
   "source": [
    "**3. Create a collaborative based recommender system which recommends top N movies based on “K” similar users for a target user “u”**\n",
    "Example:\n",
    "    \n",
    "    \n",
    "Input:\n",
    "    \n",
    "    \n",
    "• UserID: 1\n",
    "    \n",
    "    \n",
    "• Num recommendations(N): 5\n",
    "    \n",
    "    \n",
    "• Threshold for similar users (k: 100\n",
    "                               \n",
    "                               "
   ]
  },
  {
   "cell_type": "markdown",
   "id": "0a7f9456",
   "metadata": {},
   "source": [
    "**Data Description**\n",
    "\n",
    "The data consists of 105339 ratings applied over 10329 movies. The average rating and minimum and maximum rating are 0.5 and 5 respectively. There are 668 users who have given their ratings for 149532 movies. There are two data files which are provided:\n",
    "\n",
    "**Movies.csv**\n",
    "\n",
    "● movieId: ID assigned to a movie\n",
    "\n",
    "● title: Title of a movie\n",
    "\n",
    "● genres: pipe-separated list of movie genres. \n",
    "    \n",
    "**Ratings.csv**\n",
    "\n",
    "● userId: ID assigned to a user\n",
    "\n",
    "● movieId: ID assigned to a movie\n",
    "\n",
    "● rating: rating by a user to a movie\n",
    "\n",
    "● Timestamp: time at which the rating was provided."
   ]
  },
  {
   "cell_type": "markdown",
   "id": "ff644535",
   "metadata": {},
   "source": [
    "**Steps and Tasks**\n",
    "\n",
    "\n",
    "**● Import libraries and load dataset**\n",
    "\n",
    "\n",
    "**● Exploratory Data Analysis including:**\n",
    "    \n",
    "    \n",
    "o Understanding of distribution of the features available\n",
    "\n",
    "\n",
    "o Finding unique users and movies\n",
    "\n",
    "\n",
    "o Average rating and Total movies at genre level.\n",
    "\n",
    "\n",
    "o Unique genres considered..\n",
    "\n",
    "\n",
    "**● Design the 3 different types of recommendation modules as mentioned in the objectives.**\n",
    "\n",
    "\n",
    "**● Additional/Optional: Create a GUI interface using Python libraries (ipywidgets etc.) to play around with the recommendation modules.**\n",
    "    \n",
    "    "
   ]
  },
  {
   "cell_type": "markdown",
   "id": "4992294a",
   "metadata": {},
   "source": [
    "# Steps and Tasks"
   ]
  },
  {
   "cell_type": "markdown",
   "id": "1e823575",
   "metadata": {},
   "source": [
    "**TASK 1:-**"
   ]
  },
  {
   "cell_type": "markdown",
   "id": "e4ed5c55",
   "metadata": {},
   "source": [
    "**● Import libraries and load dataset**"
   ]
  },
  {
   "cell_type": "code",
   "execution_count": 1,
   "id": "aec41b9d",
   "metadata": {},
   "outputs": [],
   "source": [
    "#STEP 1:-Import libraries\n",
    "import numpy as np\n",
    "import pandas as pd\n",
    "import ipywidgets as widgets\n",
    "from IPython.display import display"
   ]
  },
  {
   "cell_type": "code",
   "execution_count": 2,
   "id": "64b789fe",
   "metadata": {},
   "outputs": [
    {
     "data": {
      "text/html": [
       "<div>\n",
       "<style scoped>\n",
       "    .dataframe tbody tr th:only-of-type {\n",
       "        vertical-align: middle;\n",
       "    }\n",
       "\n",
       "    .dataframe tbody tr th {\n",
       "        vertical-align: top;\n",
       "    }\n",
       "\n",
       "    .dataframe thead th {\n",
       "        text-align: right;\n",
       "    }\n",
       "</style>\n",
       "<table border=\"1\" class=\"dataframe\">\n",
       "  <thead>\n",
       "    <tr style=\"text-align: right;\">\n",
       "      <th></th>\n",
       "      <th>movieId</th>\n",
       "      <th>title</th>\n",
       "      <th>genres</th>\n",
       "    </tr>\n",
       "  </thead>\n",
       "  <tbody>\n",
       "    <tr>\n",
       "      <th>0</th>\n",
       "      <td>1</td>\n",
       "      <td>Toy Story (1995)</td>\n",
       "      <td>Adventure|Animation|Children|Comedy|Fantasy</td>\n",
       "    </tr>\n",
       "    <tr>\n",
       "      <th>1</th>\n",
       "      <td>2</td>\n",
       "      <td>Jumanji (1995)</td>\n",
       "      <td>Adventure|Children|Fantasy</td>\n",
       "    </tr>\n",
       "    <tr>\n",
       "      <th>2</th>\n",
       "      <td>3</td>\n",
       "      <td>Grumpier Old Men (1995)</td>\n",
       "      <td>Comedy|Romance</td>\n",
       "    </tr>\n",
       "    <tr>\n",
       "      <th>3</th>\n",
       "      <td>4</td>\n",
       "      <td>Waiting to Exhale (1995)</td>\n",
       "      <td>Comedy|Drama|Romance</td>\n",
       "    </tr>\n",
       "    <tr>\n",
       "      <th>4</th>\n",
       "      <td>5</td>\n",
       "      <td>Father of the Bride Part II (1995)</td>\n",
       "      <td>Comedy</td>\n",
       "    </tr>\n",
       "    <tr>\n",
       "      <th>...</th>\n",
       "      <td>...</td>\n",
       "      <td>...</td>\n",
       "      <td>...</td>\n",
       "    </tr>\n",
       "    <tr>\n",
       "      <th>10324</th>\n",
       "      <td>146684</td>\n",
       "      <td>Cosmic Scrat-tastrophe (2015)</td>\n",
       "      <td>Animation|Children|Comedy</td>\n",
       "    </tr>\n",
       "    <tr>\n",
       "      <th>10325</th>\n",
       "      <td>146878</td>\n",
       "      <td>Le Grand Restaurant (1966)</td>\n",
       "      <td>Comedy</td>\n",
       "    </tr>\n",
       "    <tr>\n",
       "      <th>10326</th>\n",
       "      <td>148238</td>\n",
       "      <td>A Very Murray Christmas (2015)</td>\n",
       "      <td>Comedy</td>\n",
       "    </tr>\n",
       "    <tr>\n",
       "      <th>10327</th>\n",
       "      <td>148626</td>\n",
       "      <td>The Big Short (2015)</td>\n",
       "      <td>Drama</td>\n",
       "    </tr>\n",
       "    <tr>\n",
       "      <th>10328</th>\n",
       "      <td>149532</td>\n",
       "      <td>Marco Polo: One Hundred Eyes (2015)</td>\n",
       "      <td>(no genres listed)</td>\n",
       "    </tr>\n",
       "  </tbody>\n",
       "</table>\n",
       "<p>10329 rows × 3 columns</p>\n",
       "</div>"
      ],
      "text/plain": [
       "       movieId                                title  \\\n",
       "0            1                     Toy Story (1995)   \n",
       "1            2                       Jumanji (1995)   \n",
       "2            3              Grumpier Old Men (1995)   \n",
       "3            4             Waiting to Exhale (1995)   \n",
       "4            5   Father of the Bride Part II (1995)   \n",
       "...        ...                                  ...   \n",
       "10324   146684        Cosmic Scrat-tastrophe (2015)   \n",
       "10325   146878           Le Grand Restaurant (1966)   \n",
       "10326   148238       A Very Murray Christmas (2015)   \n",
       "10327   148626                 The Big Short (2015)   \n",
       "10328   149532  Marco Polo: One Hundred Eyes (2015)   \n",
       "\n",
       "                                            genres  \n",
       "0      Adventure|Animation|Children|Comedy|Fantasy  \n",
       "1                       Adventure|Children|Fantasy  \n",
       "2                                   Comedy|Romance  \n",
       "3                             Comedy|Drama|Romance  \n",
       "4                                           Comedy  \n",
       "...                                            ...  \n",
       "10324                    Animation|Children|Comedy  \n",
       "10325                                       Comedy  \n",
       "10326                                       Comedy  \n",
       "10327                                        Drama  \n",
       "10328                           (no genres listed)  \n",
       "\n",
       "[10329 rows x 3 columns]"
      ]
     },
     "execution_count": 2,
     "metadata": {},
     "output_type": "execute_result"
    }
   ],
   "source": [
    "#Step 2:-load dataset\n",
    "Movies_df=pd.read_csv(r\"movies.csv\")\n",
    "Movies_df"
   ]
  },
  {
   "cell_type": "code",
   "execution_count": 3,
   "id": "526c10fc",
   "metadata": {},
   "outputs": [
    {
     "data": {
      "text/html": [
       "<div>\n",
       "<style scoped>\n",
       "    .dataframe tbody tr th:only-of-type {\n",
       "        vertical-align: middle;\n",
       "    }\n",
       "\n",
       "    .dataframe tbody tr th {\n",
       "        vertical-align: top;\n",
       "    }\n",
       "\n",
       "    .dataframe thead th {\n",
       "        text-align: right;\n",
       "    }\n",
       "</style>\n",
       "<table border=\"1\" class=\"dataframe\">\n",
       "  <thead>\n",
       "    <tr style=\"text-align: right;\">\n",
       "      <th></th>\n",
       "      <th>userId</th>\n",
       "      <th>movieId</th>\n",
       "      <th>rating</th>\n",
       "      <th>timestamp</th>\n",
       "    </tr>\n",
       "  </thead>\n",
       "  <tbody>\n",
       "    <tr>\n",
       "      <th>0</th>\n",
       "      <td>1</td>\n",
       "      <td>16</td>\n",
       "      <td>4.0</td>\n",
       "      <td>1217897793</td>\n",
       "    </tr>\n",
       "    <tr>\n",
       "      <th>1</th>\n",
       "      <td>1</td>\n",
       "      <td>24</td>\n",
       "      <td>1.5</td>\n",
       "      <td>1217895807</td>\n",
       "    </tr>\n",
       "    <tr>\n",
       "      <th>2</th>\n",
       "      <td>1</td>\n",
       "      <td>32</td>\n",
       "      <td>4.0</td>\n",
       "      <td>1217896246</td>\n",
       "    </tr>\n",
       "    <tr>\n",
       "      <th>3</th>\n",
       "      <td>1</td>\n",
       "      <td>47</td>\n",
       "      <td>4.0</td>\n",
       "      <td>1217896556</td>\n",
       "    </tr>\n",
       "    <tr>\n",
       "      <th>4</th>\n",
       "      <td>1</td>\n",
       "      <td>50</td>\n",
       "      <td>4.0</td>\n",
       "      <td>1217896523</td>\n",
       "    </tr>\n",
       "    <tr>\n",
       "      <th>...</th>\n",
       "      <td>...</td>\n",
       "      <td>...</td>\n",
       "      <td>...</td>\n",
       "      <td>...</td>\n",
       "    </tr>\n",
       "    <tr>\n",
       "      <th>105334</th>\n",
       "      <td>668</td>\n",
       "      <td>142488</td>\n",
       "      <td>4.0</td>\n",
       "      <td>1451535844</td>\n",
       "    </tr>\n",
       "    <tr>\n",
       "      <th>105335</th>\n",
       "      <td>668</td>\n",
       "      <td>142507</td>\n",
       "      <td>3.5</td>\n",
       "      <td>1451535889</td>\n",
       "    </tr>\n",
       "    <tr>\n",
       "      <th>105336</th>\n",
       "      <td>668</td>\n",
       "      <td>143385</td>\n",
       "      <td>4.0</td>\n",
       "      <td>1446388585</td>\n",
       "    </tr>\n",
       "    <tr>\n",
       "      <th>105337</th>\n",
       "      <td>668</td>\n",
       "      <td>144976</td>\n",
       "      <td>2.5</td>\n",
       "      <td>1448656898</td>\n",
       "    </tr>\n",
       "    <tr>\n",
       "      <th>105338</th>\n",
       "      <td>668</td>\n",
       "      <td>148626</td>\n",
       "      <td>4.5</td>\n",
       "      <td>1451148148</td>\n",
       "    </tr>\n",
       "  </tbody>\n",
       "</table>\n",
       "<p>105339 rows × 4 columns</p>\n",
       "</div>"
      ],
      "text/plain": [
       "        userId  movieId  rating   timestamp\n",
       "0            1       16     4.0  1217897793\n",
       "1            1       24     1.5  1217895807\n",
       "2            1       32     4.0  1217896246\n",
       "3            1       47     4.0  1217896556\n",
       "4            1       50     4.0  1217896523\n",
       "...        ...      ...     ...         ...\n",
       "105334     668   142488     4.0  1451535844\n",
       "105335     668   142507     3.5  1451535889\n",
       "105336     668   143385     4.0  1446388585\n",
       "105337     668   144976     2.5  1448656898\n",
       "105338     668   148626     4.5  1451148148\n",
       "\n",
       "[105339 rows x 4 columns]"
      ]
     },
     "execution_count": 3,
     "metadata": {},
     "output_type": "execute_result"
    }
   ],
   "source": [
    "Rating_df=pd.read_csv(r\"ratings.csv\")\n",
    "Rating_df"
   ]
  },
  {
   "cell_type": "code",
   "execution_count": null,
   "id": "33240e5d",
   "metadata": {},
   "outputs": [],
   "source": []
  },
  {
   "cell_type": "markdown",
   "id": "001024cb",
   "metadata": {},
   "source": [
    "**TASK 2:-**"
   ]
  },
  {
   "cell_type": "markdown",
   "id": "f6c0f432",
   "metadata": {},
   "source": [
    "**● Exploratory Data Analysis including:**"
   ]
  },
  {
   "cell_type": "markdown",
   "id": "c924128c",
   "metadata": {},
   "source": [
    "o Understanding of distribution of the features available"
   ]
  },
  {
   "cell_type": "markdown",
   "id": "3efab04c",
   "metadata": {},
   "source": [
    "Understanding of distribution of the features available for Movies dataset"
   ]
  },
  {
   "cell_type": "code",
   "execution_count": 4,
   "id": "e429127e",
   "metadata": {},
   "outputs": [
    {
     "name": "stdout",
     "output_type": "stream",
     "text": [
      "<class 'pandas.core.frame.DataFrame'>\n",
      "RangeIndex: 10329 entries, 0 to 10328\n",
      "Data columns (total 3 columns):\n",
      " #   Column   Non-Null Count  Dtype \n",
      "---  ------   --------------  ----- \n",
      " 0   movieId  10329 non-null  int64 \n",
      " 1   title    10329 non-null  object\n",
      " 2   genres   10329 non-null  object\n",
      "dtypes: int64(1), object(2)\n",
      "memory usage: 242.2+ KB\n"
     ]
    }
   ],
   "source": [
    "Movies_df.info()"
   ]
  },
  {
   "cell_type": "code",
   "execution_count": 5,
   "id": "e8b81a10",
   "metadata": {},
   "outputs": [
    {
     "data": {
      "text/html": [
       "<div>\n",
       "<style scoped>\n",
       "    .dataframe tbody tr th:only-of-type {\n",
       "        vertical-align: middle;\n",
       "    }\n",
       "\n",
       "    .dataframe tbody tr th {\n",
       "        vertical-align: top;\n",
       "    }\n",
       "\n",
       "    .dataframe thead th {\n",
       "        text-align: right;\n",
       "    }\n",
       "</style>\n",
       "<table border=\"1\" class=\"dataframe\">\n",
       "  <thead>\n",
       "    <tr style=\"text-align: right;\">\n",
       "      <th></th>\n",
       "      <th>movieId</th>\n",
       "    </tr>\n",
       "  </thead>\n",
       "  <tbody>\n",
       "    <tr>\n",
       "      <th>count</th>\n",
       "      <td>10329.000000</td>\n",
       "    </tr>\n",
       "    <tr>\n",
       "      <th>mean</th>\n",
       "      <td>31924.282893</td>\n",
       "    </tr>\n",
       "    <tr>\n",
       "      <th>std</th>\n",
       "      <td>37734.741149</td>\n",
       "    </tr>\n",
       "    <tr>\n",
       "      <th>min</th>\n",
       "      <td>1.000000</td>\n",
       "    </tr>\n",
       "    <tr>\n",
       "      <th>25%</th>\n",
       "      <td>3240.000000</td>\n",
       "    </tr>\n",
       "    <tr>\n",
       "      <th>50%</th>\n",
       "      <td>7088.000000</td>\n",
       "    </tr>\n",
       "    <tr>\n",
       "      <th>75%</th>\n",
       "      <td>59900.000000</td>\n",
       "    </tr>\n",
       "    <tr>\n",
       "      <th>max</th>\n",
       "      <td>149532.000000</td>\n",
       "    </tr>\n",
       "  </tbody>\n",
       "</table>\n",
       "</div>"
      ],
      "text/plain": [
       "             movieId\n",
       "count   10329.000000\n",
       "mean    31924.282893\n",
       "std     37734.741149\n",
       "min         1.000000\n",
       "25%      3240.000000\n",
       "50%      7088.000000\n",
       "75%     59900.000000\n",
       "max    149532.000000"
      ]
     },
     "execution_count": 5,
     "metadata": {},
     "output_type": "execute_result"
    }
   ],
   "source": [
    "Movies_df.describe()"
   ]
  },
  {
   "cell_type": "code",
   "execution_count": 6,
   "id": "86347756",
   "metadata": {},
   "outputs": [
    {
     "data": {
      "text/html": [
       "<div>\n",
       "<style scoped>\n",
       "    .dataframe tbody tr th:only-of-type {\n",
       "        vertical-align: middle;\n",
       "    }\n",
       "\n",
       "    .dataframe tbody tr th {\n",
       "        vertical-align: top;\n",
       "    }\n",
       "\n",
       "    .dataframe thead th {\n",
       "        text-align: right;\n",
       "    }\n",
       "</style>\n",
       "<table border=\"1\" class=\"dataframe\">\n",
       "  <thead>\n",
       "    <tr style=\"text-align: right;\">\n",
       "      <th></th>\n",
       "      <th>movieId</th>\n",
       "      <th>title</th>\n",
       "      <th>genres</th>\n",
       "    </tr>\n",
       "  </thead>\n",
       "  <tbody>\n",
       "    <tr>\n",
       "      <th>0</th>\n",
       "      <td>False</td>\n",
       "      <td>False</td>\n",
       "      <td>False</td>\n",
       "    </tr>\n",
       "    <tr>\n",
       "      <th>1</th>\n",
       "      <td>False</td>\n",
       "      <td>False</td>\n",
       "      <td>False</td>\n",
       "    </tr>\n",
       "    <tr>\n",
       "      <th>2</th>\n",
       "      <td>False</td>\n",
       "      <td>False</td>\n",
       "      <td>False</td>\n",
       "    </tr>\n",
       "    <tr>\n",
       "      <th>3</th>\n",
       "      <td>False</td>\n",
       "      <td>False</td>\n",
       "      <td>False</td>\n",
       "    </tr>\n",
       "    <tr>\n",
       "      <th>4</th>\n",
       "      <td>False</td>\n",
       "      <td>False</td>\n",
       "      <td>False</td>\n",
       "    </tr>\n",
       "    <tr>\n",
       "      <th>...</th>\n",
       "      <td>...</td>\n",
       "      <td>...</td>\n",
       "      <td>...</td>\n",
       "    </tr>\n",
       "    <tr>\n",
       "      <th>10324</th>\n",
       "      <td>False</td>\n",
       "      <td>False</td>\n",
       "      <td>False</td>\n",
       "    </tr>\n",
       "    <tr>\n",
       "      <th>10325</th>\n",
       "      <td>False</td>\n",
       "      <td>False</td>\n",
       "      <td>False</td>\n",
       "    </tr>\n",
       "    <tr>\n",
       "      <th>10326</th>\n",
       "      <td>False</td>\n",
       "      <td>False</td>\n",
       "      <td>False</td>\n",
       "    </tr>\n",
       "    <tr>\n",
       "      <th>10327</th>\n",
       "      <td>False</td>\n",
       "      <td>False</td>\n",
       "      <td>False</td>\n",
       "    </tr>\n",
       "    <tr>\n",
       "      <th>10328</th>\n",
       "      <td>False</td>\n",
       "      <td>False</td>\n",
       "      <td>False</td>\n",
       "    </tr>\n",
       "  </tbody>\n",
       "</table>\n",
       "<p>10329 rows × 3 columns</p>\n",
       "</div>"
      ],
      "text/plain": [
       "       movieId  title  genres\n",
       "0        False  False   False\n",
       "1        False  False   False\n",
       "2        False  False   False\n",
       "3        False  False   False\n",
       "4        False  False   False\n",
       "...        ...    ...     ...\n",
       "10324    False  False   False\n",
       "10325    False  False   False\n",
       "10326    False  False   False\n",
       "10327    False  False   False\n",
       "10328    False  False   False\n",
       "\n",
       "[10329 rows x 3 columns]"
      ]
     },
     "execution_count": 6,
     "metadata": {},
     "output_type": "execute_result"
    }
   ],
   "source": [
    "Movies_df.isnull()"
   ]
  },
  {
   "cell_type": "code",
   "execution_count": 7,
   "id": "3bc93076",
   "metadata": {},
   "outputs": [
    {
     "data": {
      "text/plain": [
       "movieId    0\n",
       "title      0\n",
       "genres     0\n",
       "dtype: int64"
      ]
     },
     "execution_count": 7,
     "metadata": {},
     "output_type": "execute_result"
    }
   ],
   "source": [
    "Movies_df.isnull().sum()"
   ]
  },
  {
   "cell_type": "code",
   "execution_count": 8,
   "id": "15962a5f",
   "metadata": {},
   "outputs": [
    {
     "data": {
      "text/plain": [
       "(10329, 3)"
      ]
     },
     "execution_count": 8,
     "metadata": {},
     "output_type": "execute_result"
    }
   ],
   "source": [
    "Movies_df.shape"
   ]
  },
  {
   "cell_type": "code",
   "execution_count": 9,
   "id": "f8599136",
   "metadata": {},
   "outputs": [
    {
     "data": {
      "text/plain": [
       "30987"
      ]
     },
     "execution_count": 9,
     "metadata": {},
     "output_type": "execute_result"
    }
   ],
   "source": [
    "Movies_df.size"
   ]
  },
  {
   "cell_type": "markdown",
   "id": "9ec24863",
   "metadata": {},
   "source": [
    "**Understanding of distribution of the features available fot Rating dataset**"
   ]
  },
  {
   "cell_type": "code",
   "execution_count": 10,
   "id": "878630f5",
   "metadata": {},
   "outputs": [
    {
     "name": "stdout",
     "output_type": "stream",
     "text": [
      "<class 'pandas.core.frame.DataFrame'>\n",
      "RangeIndex: 105339 entries, 0 to 105338\n",
      "Data columns (total 4 columns):\n",
      " #   Column     Non-Null Count   Dtype  \n",
      "---  ------     --------------   -----  \n",
      " 0   userId     105339 non-null  int64  \n",
      " 1   movieId    105339 non-null  int64  \n",
      " 2   rating     105339 non-null  float64\n",
      " 3   timestamp  105339 non-null  int64  \n",
      "dtypes: float64(1), int64(3)\n",
      "memory usage: 3.2 MB\n"
     ]
    }
   ],
   "source": [
    "Rating_df.info()"
   ]
  },
  {
   "cell_type": "code",
   "execution_count": 11,
   "id": "d030d844",
   "metadata": {},
   "outputs": [
    {
     "data": {
      "text/html": [
       "<div>\n",
       "<style scoped>\n",
       "    .dataframe tbody tr th:only-of-type {\n",
       "        vertical-align: middle;\n",
       "    }\n",
       "\n",
       "    .dataframe tbody tr th {\n",
       "        vertical-align: top;\n",
       "    }\n",
       "\n",
       "    .dataframe thead th {\n",
       "        text-align: right;\n",
       "    }\n",
       "</style>\n",
       "<table border=\"1\" class=\"dataframe\">\n",
       "  <thead>\n",
       "    <tr style=\"text-align: right;\">\n",
       "      <th></th>\n",
       "      <th>userId</th>\n",
       "      <th>movieId</th>\n",
       "      <th>rating</th>\n",
       "      <th>timestamp</th>\n",
       "    </tr>\n",
       "  </thead>\n",
       "  <tbody>\n",
       "    <tr>\n",
       "      <th>count</th>\n",
       "      <td>105339.000000</td>\n",
       "      <td>105339.000000</td>\n",
       "      <td>105339.000000</td>\n",
       "      <td>1.053390e+05</td>\n",
       "    </tr>\n",
       "    <tr>\n",
       "      <th>mean</th>\n",
       "      <td>364.924539</td>\n",
       "      <td>13381.312477</td>\n",
       "      <td>3.516850</td>\n",
       "      <td>1.130424e+09</td>\n",
       "    </tr>\n",
       "    <tr>\n",
       "      <th>std</th>\n",
       "      <td>197.486905</td>\n",
       "      <td>26170.456869</td>\n",
       "      <td>1.044872</td>\n",
       "      <td>1.802660e+08</td>\n",
       "    </tr>\n",
       "    <tr>\n",
       "      <th>min</th>\n",
       "      <td>1.000000</td>\n",
       "      <td>1.000000</td>\n",
       "      <td>0.500000</td>\n",
       "      <td>8.285650e+08</td>\n",
       "    </tr>\n",
       "    <tr>\n",
       "      <th>25%</th>\n",
       "      <td>192.000000</td>\n",
       "      <td>1073.000000</td>\n",
       "      <td>3.000000</td>\n",
       "      <td>9.711008e+08</td>\n",
       "    </tr>\n",
       "    <tr>\n",
       "      <th>50%</th>\n",
       "      <td>383.000000</td>\n",
       "      <td>2497.000000</td>\n",
       "      <td>3.500000</td>\n",
       "      <td>1.115154e+09</td>\n",
       "    </tr>\n",
       "    <tr>\n",
       "      <th>75%</th>\n",
       "      <td>557.000000</td>\n",
       "      <td>5991.000000</td>\n",
       "      <td>4.000000</td>\n",
       "      <td>1.275496e+09</td>\n",
       "    </tr>\n",
       "    <tr>\n",
       "      <th>max</th>\n",
       "      <td>668.000000</td>\n",
       "      <td>149532.000000</td>\n",
       "      <td>5.000000</td>\n",
       "      <td>1.452405e+09</td>\n",
       "    </tr>\n",
       "  </tbody>\n",
       "</table>\n",
       "</div>"
      ],
      "text/plain": [
       "              userId        movieId         rating     timestamp\n",
       "count  105339.000000  105339.000000  105339.000000  1.053390e+05\n",
       "mean      364.924539   13381.312477       3.516850  1.130424e+09\n",
       "std       197.486905   26170.456869       1.044872  1.802660e+08\n",
       "min         1.000000       1.000000       0.500000  8.285650e+08\n",
       "25%       192.000000    1073.000000       3.000000  9.711008e+08\n",
       "50%       383.000000    2497.000000       3.500000  1.115154e+09\n",
       "75%       557.000000    5991.000000       4.000000  1.275496e+09\n",
       "max       668.000000  149532.000000       5.000000  1.452405e+09"
      ]
     },
     "execution_count": 11,
     "metadata": {},
     "output_type": "execute_result"
    }
   ],
   "source": [
    "Rating_df.describe()"
   ]
  },
  {
   "cell_type": "code",
   "execution_count": 12,
   "id": "a629be70",
   "metadata": {},
   "outputs": [
    {
     "data": {
      "text/html": [
       "<div>\n",
       "<style scoped>\n",
       "    .dataframe tbody tr th:only-of-type {\n",
       "        vertical-align: middle;\n",
       "    }\n",
       "\n",
       "    .dataframe tbody tr th {\n",
       "        vertical-align: top;\n",
       "    }\n",
       "\n",
       "    .dataframe thead th {\n",
       "        text-align: right;\n",
       "    }\n",
       "</style>\n",
       "<table border=\"1\" class=\"dataframe\">\n",
       "  <thead>\n",
       "    <tr style=\"text-align: right;\">\n",
       "      <th></th>\n",
       "      <th>userId</th>\n",
       "      <th>movieId</th>\n",
       "      <th>rating</th>\n",
       "      <th>timestamp</th>\n",
       "    </tr>\n",
       "  </thead>\n",
       "  <tbody>\n",
       "    <tr>\n",
       "      <th>0</th>\n",
       "      <td>False</td>\n",
       "      <td>False</td>\n",
       "      <td>False</td>\n",
       "      <td>False</td>\n",
       "    </tr>\n",
       "    <tr>\n",
       "      <th>1</th>\n",
       "      <td>False</td>\n",
       "      <td>False</td>\n",
       "      <td>False</td>\n",
       "      <td>False</td>\n",
       "    </tr>\n",
       "    <tr>\n",
       "      <th>2</th>\n",
       "      <td>False</td>\n",
       "      <td>False</td>\n",
       "      <td>False</td>\n",
       "      <td>False</td>\n",
       "    </tr>\n",
       "    <tr>\n",
       "      <th>3</th>\n",
       "      <td>False</td>\n",
       "      <td>False</td>\n",
       "      <td>False</td>\n",
       "      <td>False</td>\n",
       "    </tr>\n",
       "    <tr>\n",
       "      <th>4</th>\n",
       "      <td>False</td>\n",
       "      <td>False</td>\n",
       "      <td>False</td>\n",
       "      <td>False</td>\n",
       "    </tr>\n",
       "    <tr>\n",
       "      <th>...</th>\n",
       "      <td>...</td>\n",
       "      <td>...</td>\n",
       "      <td>...</td>\n",
       "      <td>...</td>\n",
       "    </tr>\n",
       "    <tr>\n",
       "      <th>105334</th>\n",
       "      <td>False</td>\n",
       "      <td>False</td>\n",
       "      <td>False</td>\n",
       "      <td>False</td>\n",
       "    </tr>\n",
       "    <tr>\n",
       "      <th>105335</th>\n",
       "      <td>False</td>\n",
       "      <td>False</td>\n",
       "      <td>False</td>\n",
       "      <td>False</td>\n",
       "    </tr>\n",
       "    <tr>\n",
       "      <th>105336</th>\n",
       "      <td>False</td>\n",
       "      <td>False</td>\n",
       "      <td>False</td>\n",
       "      <td>False</td>\n",
       "    </tr>\n",
       "    <tr>\n",
       "      <th>105337</th>\n",
       "      <td>False</td>\n",
       "      <td>False</td>\n",
       "      <td>False</td>\n",
       "      <td>False</td>\n",
       "    </tr>\n",
       "    <tr>\n",
       "      <th>105338</th>\n",
       "      <td>False</td>\n",
       "      <td>False</td>\n",
       "      <td>False</td>\n",
       "      <td>False</td>\n",
       "    </tr>\n",
       "  </tbody>\n",
       "</table>\n",
       "<p>105339 rows × 4 columns</p>\n",
       "</div>"
      ],
      "text/plain": [
       "        userId  movieId  rating  timestamp\n",
       "0        False    False   False      False\n",
       "1        False    False   False      False\n",
       "2        False    False   False      False\n",
       "3        False    False   False      False\n",
       "4        False    False   False      False\n",
       "...        ...      ...     ...        ...\n",
       "105334   False    False   False      False\n",
       "105335   False    False   False      False\n",
       "105336   False    False   False      False\n",
       "105337   False    False   False      False\n",
       "105338   False    False   False      False\n",
       "\n",
       "[105339 rows x 4 columns]"
      ]
     },
     "execution_count": 12,
     "metadata": {},
     "output_type": "execute_result"
    }
   ],
   "source": [
    "Rating_df.isnull()"
   ]
  },
  {
   "cell_type": "code",
   "execution_count": 13,
   "id": "adaafc1a",
   "metadata": {},
   "outputs": [
    {
     "data": {
      "text/plain": [
       "userId       0\n",
       "movieId      0\n",
       "rating       0\n",
       "timestamp    0\n",
       "dtype: int64"
      ]
     },
     "execution_count": 13,
     "metadata": {},
     "output_type": "execute_result"
    }
   ],
   "source": [
    "Rating_df.isnull().sum()"
   ]
  },
  {
   "cell_type": "code",
   "execution_count": 14,
   "id": "aa492c7b",
   "metadata": {},
   "outputs": [
    {
     "data": {
      "text/plain": [
       "(105339, 4)"
      ]
     },
     "execution_count": 14,
     "metadata": {},
     "output_type": "execute_result"
    }
   ],
   "source": [
    "Rating_df.shape"
   ]
  },
  {
   "cell_type": "code",
   "execution_count": 15,
   "id": "f6b7f696",
   "metadata": {},
   "outputs": [
    {
     "data": {
      "text/plain": [
       "421356"
      ]
     },
     "execution_count": 15,
     "metadata": {},
     "output_type": "execute_result"
    }
   ],
   "source": [
    "Rating_df.size"
   ]
  },
  {
   "cell_type": "markdown",
   "id": "91513582",
   "metadata": {},
   "source": [
    "**o Finding unique users and movies**"
   ]
  },
  {
   "cell_type": "code",
   "execution_count": 16,
   "id": "26e9c47a",
   "metadata": {},
   "outputs": [
    {
     "data": {
      "text/plain": [
       "0        False\n",
       "1        False\n",
       "2        False\n",
       "3        False\n",
       "4        False\n",
       "         ...  \n",
       "10324    False\n",
       "10325    False\n",
       "10326    False\n",
       "10327    False\n",
       "10328    False\n",
       "Length: 10329, dtype: bool"
      ]
     },
     "execution_count": 16,
     "metadata": {},
     "output_type": "execute_result"
    }
   ],
   "source": [
    "Movies_df.duplicated()"
   ]
  },
  {
   "cell_type": "code",
   "execution_count": 17,
   "id": "003c59fd",
   "metadata": {},
   "outputs": [
    {
     "data": {
      "text/plain": [
       "0         False\n",
       "1         False\n",
       "2         False\n",
       "3         False\n",
       "4         False\n",
       "          ...  \n",
       "105334    False\n",
       "105335    False\n",
       "105336    False\n",
       "105337    False\n",
       "105338    False\n",
       "Length: 105339, dtype: bool"
      ]
     },
     "execution_count": 17,
     "metadata": {},
     "output_type": "execute_result"
    }
   ],
   "source": [
    "Rating_df.duplicated()"
   ]
  },
  {
   "cell_type": "code",
   "execution_count": 18,
   "id": "de897a4a",
   "metadata": {},
   "outputs": [
    {
     "data": {
      "text/plain": [
       "668"
      ]
     },
     "execution_count": 18,
     "metadata": {},
     "output_type": "execute_result"
    }
   ],
   "source": [
    "unquie_user=Rating_df[\"userId\"].nunique()\n",
    "unquie_user"
   ]
  },
  {
   "cell_type": "code",
   "execution_count": 19,
   "id": "52f19bcf",
   "metadata": {},
   "outputs": [
    {
     "data": {
      "text/plain": [
       "10325"
      ]
     },
     "execution_count": 19,
     "metadata": {},
     "output_type": "execute_result"
    }
   ],
   "source": [
    "unquie_moives=Rating_df[\"movieId\"].nunique()\n",
    "unquie_moives"
   ]
  },
  {
   "cell_type": "markdown",
   "id": "ca6c0a56",
   "metadata": {},
   "source": [
    "**o Average rating and Total movies at genre level.**"
   ]
  },
  {
   "cell_type": "code",
   "execution_count": 20,
   "id": "5ecaca5c",
   "metadata": {},
   "outputs": [
    {
     "name": "stdout",
     "output_type": "stream",
     "text": [
      "Average rating and total movies at genre level:\n",
      "\n"
     ]
    },
    {
     "data": {
      "text/html": [
       "<div>\n",
       "<style scoped>\n",
       "    .dataframe tbody tr th:only-of-type {\n",
       "        vertical-align: middle;\n",
       "    }\n",
       "\n",
       "    .dataframe tbody tr th {\n",
       "        vertical-align: top;\n",
       "    }\n",
       "\n",
       "    .dataframe thead th {\n",
       "        text-align: right;\n",
       "    }\n",
       "</style>\n",
       "<table border=\"1\" class=\"dataframe\">\n",
       "  <thead>\n",
       "    <tr style=\"text-align: right;\">\n",
       "      <th></th>\n",
       "      <th>genres</th>\n",
       "      <th>avg_rating</th>\n",
       "      <th>total_movies</th>\n",
       "    </tr>\n",
       "  </thead>\n",
       "  <tbody>\n",
       "    <tr>\n",
       "      <th>0</th>\n",
       "      <td>(no genres listed)</td>\n",
       "      <td>3.071429</td>\n",
       "      <td>7</td>\n",
       "    </tr>\n",
       "    <tr>\n",
       "      <th>1</th>\n",
       "      <td>Action</td>\n",
       "      <td>3.113743</td>\n",
       "      <td>31205</td>\n",
       "    </tr>\n",
       "    <tr>\n",
       "      <th>2</th>\n",
       "      <td>Adventure</td>\n",
       "      <td>3.201591</td>\n",
       "      <td>23076</td>\n",
       "    </tr>\n",
       "    <tr>\n",
       "      <th>3</th>\n",
       "      <td>Animation</td>\n",
       "      <td>3.405377</td>\n",
       "      <td>5966</td>\n",
       "    </tr>\n",
       "    <tr>\n",
       "      <th>4</th>\n",
       "      <td>Children</td>\n",
       "      <td>3.090025</td>\n",
       "      <td>8098</td>\n",
       "    </tr>\n",
       "    <tr>\n",
       "      <th>5</th>\n",
       "      <td>Comedy</td>\n",
       "      <td>3.094777</td>\n",
       "      <td>38055</td>\n",
       "    </tr>\n",
       "    <tr>\n",
       "      <th>6</th>\n",
       "      <td>Crime</td>\n",
       "      <td>3.236985</td>\n",
       "      <td>18291</td>\n",
       "    </tr>\n",
       "    <tr>\n",
       "      <th>7</th>\n",
       "      <td>Documentary</td>\n",
       "      <td>3.484583</td>\n",
       "      <td>1206</td>\n",
       "    </tr>\n",
       "    <tr>\n",
       "      <th>8</th>\n",
       "      <td>Drama</td>\n",
       "      <td>3.284382</td>\n",
       "      <td>46960</td>\n",
       "    </tr>\n",
       "    <tr>\n",
       "      <th>9</th>\n",
       "      <td>Fantasy</td>\n",
       "      <td>3.178616</td>\n",
       "      <td>10889</td>\n",
       "    </tr>\n",
       "    <tr>\n",
       "      <th>10</th>\n",
       "      <td>Film-Noir</td>\n",
       "      <td>3.411458</td>\n",
       "      <td>1210</td>\n",
       "    </tr>\n",
       "    <tr>\n",
       "      <th>11</th>\n",
       "      <td>Horror</td>\n",
       "      <td>2.830540</td>\n",
       "      <td>7983</td>\n",
       "    </tr>\n",
       "    <tr>\n",
       "      <th>12</th>\n",
       "      <td>IMAX</td>\n",
       "      <td>3.369887</td>\n",
       "      <td>3032</td>\n",
       "    </tr>\n",
       "    <tr>\n",
       "      <th>13</th>\n",
       "      <td>Musical</td>\n",
       "      <td>3.227645</td>\n",
       "      <td>4287</td>\n",
       "    </tr>\n",
       "    <tr>\n",
       "      <th>14</th>\n",
       "      <td>Mystery</td>\n",
       "      <td>3.206681</td>\n",
       "      <td>8320</td>\n",
       "    </tr>\n",
       "    <tr>\n",
       "      <th>15</th>\n",
       "      <td>Romance</td>\n",
       "      <td>3.231254</td>\n",
       "      <td>19094</td>\n",
       "    </tr>\n",
       "    <tr>\n",
       "      <th>16</th>\n",
       "      <td>Sci-Fi</td>\n",
       "      <td>3.096767</td>\n",
       "      <td>16795</td>\n",
       "    </tr>\n",
       "    <tr>\n",
       "      <th>17</th>\n",
       "      <td>Thriller</td>\n",
       "      <td>3.127309</td>\n",
       "      <td>29288</td>\n",
       "    </tr>\n",
       "    <tr>\n",
       "      <th>18</th>\n",
       "      <td>War</td>\n",
       "      <td>3.392267</td>\n",
       "      <td>5828</td>\n",
       "    </tr>\n",
       "    <tr>\n",
       "      <th>19</th>\n",
       "      <td>Western</td>\n",
       "      <td>3.254288</td>\n",
       "      <td>2314</td>\n",
       "    </tr>\n",
       "  </tbody>\n",
       "</table>\n",
       "</div>"
      ],
      "text/plain": [
       "                genres  avg_rating  total_movies\n",
       "0   (no genres listed)    3.071429             7\n",
       "1               Action    3.113743         31205\n",
       "2            Adventure    3.201591         23076\n",
       "3            Animation    3.405377          5966\n",
       "4             Children    3.090025          8098\n",
       "5               Comedy    3.094777         38055\n",
       "6                Crime    3.236985         18291\n",
       "7          Documentary    3.484583          1206\n",
       "8                Drama    3.284382         46960\n",
       "9              Fantasy    3.178616         10889\n",
       "10           Film-Noir    3.411458          1210\n",
       "11              Horror    2.830540          7983\n",
       "12                IMAX    3.369887          3032\n",
       "13             Musical    3.227645          4287\n",
       "14             Mystery    3.206681          8320\n",
       "15             Romance    3.231254         19094\n",
       "16              Sci-Fi    3.096767         16795\n",
       "17            Thriller    3.127309         29288\n",
       "18                 War    3.392267          5828\n",
       "19             Western    3.254288          2314"
      ]
     },
     "execution_count": 20,
     "metadata": {},
     "output_type": "execute_result"
    }
   ],
   "source": [
    "# Calculate average rating and total movies per genre\n",
    "avg_rating_per_genre_total_movies = (Movies_df.assign(genres=Movies_df['genres'].str.split('|'))\n",
    "                        .explode('genres')\n",
    "                        .merge(Rating_df.groupby('movieId')['rating'].agg(['mean', 'count']), \n",
    "                               left_on='movieId', right_index=True)\n",
    "                        .groupby('genres')\n",
    "                        .agg(avg_rating=('mean', 'mean'), total_movies=('count', 'sum'))\n",
    "                        .reset_index())\n",
    "\n",
    "print(\"Average rating and total movies at genre level:\")\n",
    "print()\n",
    "avg_rating_per_genre_total_movies"
   ]
  },
  {
   "cell_type": "markdown",
   "id": "a73263b1",
   "metadata": {},
   "source": [
    "**o Unique genres considered..**"
   ]
  },
  {
   "cell_type": "code",
   "execution_count": 21,
   "id": "758b3b2e",
   "metadata": {},
   "outputs": [
    {
     "data": {
      "text/plain": [
       "array(['Adventure', 'Animation', 'Children', 'Comedy', 'Fantasy',\n",
       "       'Romance', 'Drama', 'Action', 'Crime', 'Thriller', 'Horror',\n",
       "       'Mystery', 'Sci-Fi', 'IMAX', 'War', 'Musical', 'Documentary',\n",
       "       'Western', 'Film-Noir', '(no genres listed)'], dtype=object)"
      ]
     },
     "execution_count": 21,
     "metadata": {},
     "output_type": "execute_result"
    }
   ],
   "source": [
    "unique_genres_con = Movies_df['genres'].str.split('|').explode().unique()\n",
    "unique_genres_con"
   ]
  },
  {
   "cell_type": "markdown",
   "id": "91f61902",
   "metadata": {},
   "source": [
    "**TASK 3:-**"
   ]
  },
  {
   "cell_type": "markdown",
   "id": "a0d8781a",
   "metadata": {},
   "source": [
    "**● Design the 3 different types of recommendation modules as mentioned in the objectives.**"
   ]
  },
  {
   "cell_type": "markdown",
   "id": "3fcee15b",
   "metadata": {},
   "source": [
    "**Popularity based recommender**"
   ]
  },
  {
   "cell_type": "code",
   "execution_count": 22,
   "id": "09ad6d69",
   "metadata": {},
   "outputs": [
    {
     "data": {
      "text/html": [
       "<div>\n",
       "<style scoped>\n",
       "    .dataframe tbody tr th:only-of-type {\n",
       "        vertical-align: middle;\n",
       "    }\n",
       "\n",
       "    .dataframe tbody tr th {\n",
       "        vertical-align: top;\n",
       "    }\n",
       "\n",
       "    .dataframe thead th {\n",
       "        text-align: right;\n",
       "    }\n",
       "</style>\n",
       "<table border=\"1\" class=\"dataframe\">\n",
       "  <thead>\n",
       "    <tr style=\"text-align: right;\">\n",
       "      <th></th>\n",
       "      <th>movieId</th>\n",
       "      <th>avg_rating</th>\n",
       "      <th>total_ratings</th>\n",
       "      <th>popularity</th>\n",
       "      <th>title</th>\n",
       "    </tr>\n",
       "  </thead>\n",
       "  <tbody>\n",
       "    <tr>\n",
       "      <th>0</th>\n",
       "      <td>296</td>\n",
       "      <td>4.160000</td>\n",
       "      <td>325</td>\n",
       "      <td>1352.0</td>\n",
       "      <td>Pulp Fiction (1994)</td>\n",
       "    </tr>\n",
       "    <tr>\n",
       "      <th>1</th>\n",
       "      <td>356</td>\n",
       "      <td>4.138264</td>\n",
       "      <td>311</td>\n",
       "      <td>1287.0</td>\n",
       "      <td>Forrest Gump (1994)</td>\n",
       "    </tr>\n",
       "    <tr>\n",
       "      <th>2</th>\n",
       "      <td>1</td>\n",
       "      <td>3.907328</td>\n",
       "      <td>232</td>\n",
       "      <td>906.5</td>\n",
       "      <td>Toy Story (1995)</td>\n",
       "    </tr>\n",
       "    <tr>\n",
       "      <th>3</th>\n",
       "      <td>608</td>\n",
       "      <td>4.271144</td>\n",
       "      <td>201</td>\n",
       "      <td>858.5</td>\n",
       "      <td>Fargo (1996)</td>\n",
       "    </tr>\n",
       "    <tr>\n",
       "      <th>4</th>\n",
       "      <td>1270</td>\n",
       "      <td>3.943662</td>\n",
       "      <td>213</td>\n",
       "      <td>840.0</td>\n",
       "      <td>Back to the Future (1985)</td>\n",
       "    </tr>\n",
       "  </tbody>\n",
       "</table>\n",
       "</div>"
      ],
      "text/plain": [
       "   movieId  avg_rating  total_ratings  popularity                      title\n",
       "0      296    4.160000            325      1352.0        Pulp Fiction (1994)\n",
       "1      356    4.138264            311      1287.0        Forrest Gump (1994)\n",
       "2        1    3.907328            232       906.5           Toy Story (1995)\n",
       "3      608    4.271144            201       858.5               Fargo (1996)\n",
       "4     1270    3.943662            213       840.0  Back to the Future (1985)"
      ]
     },
     "execution_count": 22,
     "metadata": {},
     "output_type": "execute_result"
    }
   ],
   "source": [
    "#STEP 1:-Popularity based recommender\n",
    "def popularity_based_recommender(genre, min_reviews, num_recommendations):\n",
    "    genre_movies = Movies_df[Movies_df['genres'].str.contains(genre)]\n",
    "    genre_ratings = genre_movies.merge(Rating_df, on='movieId', how='left')\n",
    "    genre_ratings = genre_ratings.groupby('movieId').filter(\n",
    "        lambda x: len(x) >= min_reviews)\n",
    "\n",
    "    movie_stats = genre_ratings.groupby('movieId').agg(\n",
    "        avg_rating=('rating', 'mean'), total_ratings=('rating', 'count')\n",
    "    ).reset_index()\n",
    "    \n",
    "    movie_stats['popularity'] = movie_stats['avg_rating'] * movie_stats['total_ratings']\n",
    "    movie_stats = movie_stats.sort_values(by='popularity', ascending=False)\n",
    "    top_movies = movie_stats.head(num_recommendations)\n",
    "    top_movies = top_movies.merge(Movies_df[['movieId', 'title']],\n",
    "                                  on='movieId', how='left')\n",
    "    return top_movies\n",
    "# Step-2:- Creating a sample data for popularity_based_recommender function to generate the recommendation:\n",
    "genre = 'Comedy'\n",
    "min_reviews = 100\n",
    "num_recommendations = 5\n",
    "\n",
    "# Step-3:- Using the popularity_based_recommender function to generate the recommendation:\n",
    "popularity_based_recommender_system = popularity_based_recommender(genre, min_reviews, num_recommendations)\n",
    "popularity_based_recommender_system"
   ]
  },
  {
   "cell_type": "markdown",
   "id": "6bba0f2e",
   "metadata": {},
   "source": [
    "**Content based recommender**"
   ]
  },
  {
   "cell_type": "code",
   "execution_count": 23,
   "id": "933b1313",
   "metadata": {},
   "outputs": [
    {
     "data": {
      "text/html": [
       "<div>\n",
       "<style scoped>\n",
       "    .dataframe tbody tr th:only-of-type {\n",
       "        vertical-align: middle;\n",
       "    }\n",
       "\n",
       "    .dataframe tbody tr th {\n",
       "        vertical-align: top;\n",
       "    }\n",
       "\n",
       "    .dataframe thead th {\n",
       "        text-align: right;\n",
       "    }\n",
       "</style>\n",
       "<table border=\"1\" class=\"dataframe\">\n",
       "  <thead>\n",
       "    <tr style=\"text-align: right;\">\n",
       "      <th></th>\n",
       "      <th>Recommended Movie</th>\n",
       "    </tr>\n",
       "  </thead>\n",
       "  <tbody>\n",
       "    <tr>\n",
       "      <th>0</th>\n",
       "      <td>Space Jam (1996)</td>\n",
       "    </tr>\n",
       "    <tr>\n",
       "      <th>1</th>\n",
       "      <td>Antz (1998)</td>\n",
       "    </tr>\n",
       "    <tr>\n",
       "      <th>2</th>\n",
       "      <td>Who Framed Roger Rabbit? (1988)</td>\n",
       "    </tr>\n",
       "    <tr>\n",
       "      <th>3</th>\n",
       "      <td>Toy Story 2 (1999)</td>\n",
       "    </tr>\n",
       "    <tr>\n",
       "      <th>4</th>\n",
       "      <td>Adventures of Rocky and Bullwinkle, The (2000)</td>\n",
       "    </tr>\n",
       "  </tbody>\n",
       "</table>\n",
       "</div>"
      ],
      "text/plain": [
       "                                Recommended Movie\n",
       "0                                Space Jam (1996)\n",
       "1                                     Antz (1998)\n",
       "2                 Who Framed Roger Rabbit? (1988)\n",
       "3                              Toy Story 2 (1999)\n",
       "4  Adventures of Rocky and Bullwinkle, The (2000)"
      ]
     },
     "execution_count": 23,
     "metadata": {},
     "output_type": "execute_result"
    }
   ],
   "source": [
    "#STEP 1:-Content based recommender\n",
    "def content_based_recommender(movie_title, num_recommendations):\n",
    "    input_movie = Movies_df[Movies_df['title'] == movie_title]\n",
    "    input_genres = input_movie['genres'].values[0].split('|')\n",
    "    similar_movies = []\n",
    "    for index, row in Movies_df.iterrows():\n",
    "        movie_genres = row['genres'].split('|')\n",
    "        similarity_score = len(set(input_genres) & set(movie_genres)) / float(len(input_genres))\n",
    "        similar_movies.append((row['title'], similarity_score))\n",
    "        \n",
    "    similar_movies.sort(key=lambda x: x[1], reverse=True)\n",
    "    recommendations = [movie[0] for movie in similar_movies[1:num_recommendations+1]]\n",
    "    recommendations_df = pd.DataFrame(recommendations, columns=['Recommended Movie'])\n",
    "    \n",
    "    return recommendations_df\n",
    "\n",
    "# Step-2:- Creating a sample data for content_based_recommender function to generate the recommendation:\n",
    "movie_title = 'Toy Story (1995)'\n",
    "num_recommendations = 5\n",
    "\n",
    "# Step-3:- Using the content_based_recommender function to generate the recommendation:\n",
    "content_based_recommender_system = content_based_recommender(movie_title, num_recommendations)\n",
    "content_based_recommender_system"
   ]
  },
  {
   "cell_type": "markdown",
   "id": "52a95142",
   "metadata": {},
   "source": [
    "**collaborative based recommender**"
   ]
  },
  {
   "cell_type": "code",
   "execution_count": 24,
   "id": "bfb03e96",
   "metadata": {},
   "outputs": [
    {
     "name": "stdout",
     "output_type": "stream",
     "text": [
      "Top 5 recommendations for User 1 :\n"
     ]
    },
    {
     "data": {
      "text/html": [
       "<div>\n",
       "<style scoped>\n",
       "    .dataframe tbody tr th:only-of-type {\n",
       "        vertical-align: middle;\n",
       "    }\n",
       "\n",
       "    .dataframe tbody tr th {\n",
       "        vertical-align: top;\n",
       "    }\n",
       "\n",
       "    .dataframe thead th {\n",
       "        text-align: right;\n",
       "    }\n",
       "</style>\n",
       "<table border=\"1\" class=\"dataframe\">\n",
       "  <thead>\n",
       "    <tr style=\"text-align: right;\">\n",
       "      <th></th>\n",
       "      <th>movieId</th>\n",
       "      <th>predicted_rating</th>\n",
       "      <th>title</th>\n",
       "    </tr>\n",
       "  </thead>\n",
       "  <tbody>\n",
       "    <tr>\n",
       "      <th>7383</th>\n",
       "      <td>90603</td>\n",
       "      <td>5.0</td>\n",
       "      <td>Batman: Year One (2011)</td>\n",
       "    </tr>\n",
       "    <tr>\n",
       "      <th>707</th>\n",
       "      <td>1085</td>\n",
       "      <td>5.0</td>\n",
       "      <td>Old Man and the Sea, The (1958)</td>\n",
       "    </tr>\n",
       "    <tr>\n",
       "      <th>4072</th>\n",
       "      <td>6902</td>\n",
       "      <td>5.0</td>\n",
       "      <td>Interstate 60 (2002)</td>\n",
       "    </tr>\n",
       "    <tr>\n",
       "      <th>7449</th>\n",
       "      <td>92259</td>\n",
       "      <td>5.0</td>\n",
       "      <td>Intouchables (2011)</td>\n",
       "    </tr>\n",
       "    <tr>\n",
       "      <th>7466</th>\n",
       "      <td>93040</td>\n",
       "      <td>5.0</td>\n",
       "      <td>Civil War, The (1990)</td>\n",
       "    </tr>\n",
       "  </tbody>\n",
       "</table>\n",
       "</div>"
      ],
      "text/plain": [
       "      movieId  predicted_rating                            title\n",
       "7383    90603               5.0          Batman: Year One (2011)\n",
       "707      1085               5.0  Old Man and the Sea, The (1958)\n",
       "4072     6902               5.0             Interstate 60 (2002)\n",
       "7449    92259               5.0              Intouchables (2011)\n",
       "7466    93040               5.0            Civil War, The (1990)"
      ]
     },
     "execution_count": 24,
     "metadata": {},
     "output_type": "execute_result"
    }
   ],
   "source": [
    "def cosine_similarity(vec1, vec2):\n",
    "    dot_product = sum(i * j for i, j in zip(vec1, vec2))\n",
    "    magnitude1 = sum(i * 2 for i in vec1) * 0.5\n",
    "    magnitude2 = sum(j * 2 for j in vec2) * 0.5\n",
    "    if magnitude1 == 0 or magnitude2 == 0:\n",
    "        return 0\n",
    "    return dot_product / (magnitude1 * magnitude2)\n",
    "\n",
    "def collaborative_recommender(user_id, num_recommendations, Threshold_of_similar_users,\n",
    "                              Rating_df, Movies_df):\n",
    "    \n",
    "    target_user_ratings = Rating_df[Rating_df['userId'] == user_id]\n",
    "    similar_users = Rating_df[Rating_df['movieId'].isin(target_user_ratings['movieId'])]\n",
    "    \n",
    "    similarities = {}\n",
    "    for similar_user_id, similar_user_ratings in similar_users.groupby('userId'):\n",
    "        similarity = cosine_similarity(target_user_ratings[\n",
    "            'rating'].values, similar_user_ratings['rating'].values)\n",
    "        similarities[similar_user_id] = similarity\n",
    "    \n",
    "    similar_users = sorted(similarities, key=similarities.get,\n",
    "                           reverse=True)[:Threshold_of_similar_users]\n",
    "    \n",
    "    unrated_movies = Movies_df[~Movies_df['movieId'].isin(\n",
    "        target_user_ratings['movieId'])]\n",
    "    \n",
    "\n",
    "    recommendations = {}\n",
    "    for _, movie_row in unrated_movies.iterrows():\n",
    "        weighted_sum = 0\n",
    "        similarity_sum = 0\n",
    "        for similar_user_id in similar_users:\n",
    "            similar_user_rating = Rating_df[(\n",
    "                Rating_df['userId'] == similar_user_id) & (\n",
    "                Rating_df['movieId'] == movie_row['movieId'])]['rating']\n",
    "            \n",
    "            if not similar_user_rating.empty:\n",
    "                similarity = similarities[similar_user_id]\n",
    "                weighted_sum += similarity * similar_user_rating.iloc[0]\n",
    "                similarity_sum += similarity\n",
    "        if similarity_sum > 0:\n",
    "            recommendations[movie_row['movieId']] = weighted_sum / similarity_sum\n",
    "    \n",
    "    top_recommendations_df = pd.DataFrame(\n",
    "        recommendations.items(), columns=['movieId', 'predicted_rating'])\n",
    "    \n",
    "    top_recommendations_df = top_recommendations_df.merge(\n",
    "        Movies_df[['movieId', 'title']], on='movieId', how='left')\n",
    "    \n",
    "    top_recommendations_df = top_recommendations_df.sort_values(\n",
    "        by='predicted_rating', ascending=False).head(num_recommendations)\n",
    "    \n",
    "    return top_recommendations_df\n",
    "\n",
    "# Step-2:- Creating a sample data for collaborative_based_recommender function to generate the recommendation:\n",
    "user_id = 1\n",
    "num_recommendations = 5\n",
    "Threshold_of_similar_users = 100\n",
    "\n",
    "# Step-3:- Using the collaborative_based_recommender function to generate the recommendation:\n",
    "collaborative_based_recommender_system = collaborative_recommender(\n",
    "    user_id, num_recommendations, Threshold_of_similar_users,\n",
    "    Rating_df, Movies_df)\n",
    "\n",
    "print(\"Top\", num_recommendations, \"recommendations for User\", user_id, \":\")\n",
    "collaborative_based_recommender_system"
   ]
  },
  {
   "cell_type": "markdown",
   "id": "408525f8",
   "metadata": {},
   "source": [
    "**TASK 4:-**"
   ]
  },
  {
   "cell_type": "markdown",
   "id": "ebe90090",
   "metadata": {},
   "source": [
    "**● Additional/Optional: Create a GUI interface using Python libraries (ipywidgets etc.) to play around with the recommendation modules.**"
   ]
  },
  {
   "cell_type": "code",
   "execution_count": 25,
   "id": "c0da8059",
   "metadata": {},
   "outputs": [],
   "source": [
    "def print_popularity_based_recommender_system():\n",
    "    \n",
    "    # Create a Combobox widget for genres\n",
    "    Genres = widgets.Combobox(description='Genres:', options=[\n",
    "        'Action','Adventure','Animation','Children','Comedy','Crime',\n",
    "        'Documentary','Drama','Fantasy','Film-Noir','Horror','IMAX',\n",
    "        'Musical','Mystery','Romance','Sci-Fi','Thriller','War','Western'])\n",
    "\n",
    "    # Create a ToggleButtons widget for selecting the number of recommendations\n",
    "    num_recommendations = widgets.ToggleButtons(\n",
    "        description='Num Recommendations:', options=[1, 2, 3, 4, 5,\n",
    "                                                     6, 7, 8, 9, 10], value=5)\n",
    "\n",
    "    # Create an IntSlider widget for selecting the minimum reviews threshold\n",
    "    min_reviews_threshold = widgets.Dropdown(\n",
    "        description='Min Reviews Threshold:',options=[\n",
    "            1, 10, 20, 30, 40, 50, 60, 70, 80, 90, 100], value=100)\n",
    "\n",
    "    # Define a callback function to handle changes in the Combobox value\n",
    "    def on_combobox_change(change):\n",
    "        print(\"Selected genre:\", change['new'])\n",
    "\n",
    "    # Define a callback function to handle changes in the ToggleButtons value\n",
    "    def on_toggle_buttons_change(change):\n",
    "        print(\"Selected num of Recommendations:\", change['new'])\n",
    "\n",
    "    # Define a callback function to handle changes in the IntSlider value    \n",
    "    def on_int_slider_change(change):\n",
    "        print(\"Selected min Reviews:\", change['new'])    \n",
    "\n",
    "    # Register the callback functions to observe changes in the Combobox and ToggleButtons values\n",
    "    Genres.observe(on_combobox_change, names='value')\n",
    "    num_recommendations.observe(on_toggle_buttons_change, names='value')\n",
    "    min_reviews_threshold.observe(on_int_slider_change, names='value')\n",
    "\n",
    "    # Create an Accordion widget and add the Combobox and ToggleButtons widgets as its children\n",
    "    movies_accordion = widgets.Accordion(children=[Genres, num_recommendations, min_reviews_threshold])\n",
    "    movies_accordion.set_title(0, 'Genres')\n",
    "    movies_accordion.set_title(1, 'Num Recommendations')\n",
    "    movies_accordion.set_title(2, 'Min Reviews Threshold')\n",
    "\n",
    "    # Define function to call popularity_based_recommender\n",
    "    def get_recommendations():\n",
    "        genre = Genres.value\n",
    "        num_recommendations_value = num_recommendations.value\n",
    "        min_reviews_threshold_value = min_reviews_threshold.value\n",
    "\n",
    "        popularity_based_recommender_system = popularity_based_recommender(genre, min_reviews_threshold_value, num_recommendations_value)\n",
    "        display(popularity_based_recommender_system)\n",
    "\n",
    "    # Display the Accordion widget\n",
    "    display(movies_accordion)\n",
    "\n",
    "    # Call get_recommendations when button is clicked\n",
    "    button = widgets.Button(description=\"Get Recommendations\")\n",
    "    button.on_click(lambda button: get_recommendations())\n",
    "    display(button)"
   ]
  },
  {
   "cell_type": "code",
   "execution_count": 26,
   "id": "6b60054e",
   "metadata": {},
   "outputs": [],
   "source": [
    "# Step-1:- Creating the movies list and Converting to list for further task:\n",
    "movies_list = Movies_df['title'].unique()\n",
    "movies_list_name = movies_list.tolist()\n",
    "\n",
    "# Step-2:- Creating a function as display_content_based_recommender_system:\n",
    "def print_content_based_recommender_system():\n",
    "    movie_title = widgets.Combobox(description='Movie Title:', options=movies_list_name)\n",
    "\n",
    "    num_recommendations = widgets.ToggleButtons(\n",
    "        description='Num Recommendations:', options=[\n",
    "            1, 2, 3, 4, 5, 6, 7, 8, 9, 10], value=5)\n",
    "\n",
    "    def on_combobox_change(change):\n",
    "        print(\"Selected genre:\", change['new'])\n",
    "\n",
    "    def on_toggle_buttons_change(change):\n",
    "        print(\"Selected num of Recommendations:\", change['new'])\n",
    "\n",
    "    movie_title.observe(on_combobox_change, names='value')\n",
    "    num_recommendations.observe(on_toggle_buttons_change, names='value')\n",
    "\n",
    "    movies_accordion = widgets.Accordion(children=[movie_title, num_recommendations])\n",
    "    movies_accordion.set_title(0, 'Movie Title')\n",
    "    movies_accordion.set_title(1, 'Num Recommendations')\n",
    "\n",
    "    def get_recommendations():\n",
    "        movie_title_number = movie_title.value\n",
    "        num_recommendations_value = num_recommendations.value  \n",
    "        content_based_recommender_system = content_based_recommender(\n",
    "            movie_title_number, num_recommendations_value)\n",
    "        display(content_based_recommender_system)\n",
    "\n",
    "    display(movies_accordion)\n",
    "\n",
    "    button = widgets.Button(description=\"Get Recommendations\")\n",
    "    button.on_click(lambda button: get_recommendations())\n",
    "    display(button)"
   ]
  },
  {
   "cell_type": "code",
   "execution_count": 27,
   "id": "7f343db0",
   "metadata": {},
   "outputs": [],
   "source": [
    "# Step-1:- Creating a function as display_collaborative_based_recommender_system:\n",
    "def print_collaborative_based_recommender_system():\n",
    "    User_Id = widgets.IntText(description='User_Id:')\n",
    "\n",
    "    num_of_recommendations = widgets.ToggleButtons(\n",
    "        description='Num Recommendations:', options=[\n",
    "            1, 2, 3, 4, 5, 6, 7, 8, 9, 10], value=5)\n",
    "\n",
    "    min_reviews_threshold = widgets.Dropdown(\n",
    "        description='Min Reviews Threshold:',options=[\n",
    "            1, 10, 20, 30, 40, 50, 60, 70, 80, 90, 100], value=100)\n",
    "\n",
    "\n",
    "    def on_int_text_change(change):\n",
    "        if change['type'] == 'change' and change['name'] == 'value':\n",
    "            print(\"Selected Integer Value is:\", change['new'])\n",
    "\n",
    "    def on_toggle_buttons_change(change):\n",
    "        print(\"Selected num of Recommendations:\", change['new'])\n",
    "\n",
    "    def on_dropdown_change(change):\n",
    "        print(\"Selected min Reviews:\", change['new'])    \n",
    "\n",
    "\n",
    "    User_Id.observe(on_int_text_change, names='value')\n",
    "    num_of_recommendations.observe(on_toggle_buttons_change, names='value')\n",
    "    min_reviews_threshold.observe(on_dropdown_change, names='value')\n",
    "\n",
    "\n",
    "    movies_accordion = widgets.Accordion(children=[User_Id, num_of_recommendations,\n",
    "                                            min_reviews_threshold])\n",
    "    movies_accordion.set_title(0, 'User_Id')\n",
    "    movies_accordion.set_title(1, 'Num Recommendations')\n",
    "    movies_accordion.set_title(2, 'Min Reviews Threshold')\n",
    "\n",
    "    def get_recommendations():\n",
    "        user_id = User_Id.value\n",
    "        num_recommendations = num_of_recommendations.value\n",
    "        Threshold_of_similar_users = min_reviews_threshold.value\n",
    "\n",
    "        collaborative_based_recommender_system =  collaborative_recommender(\n",
    "            user_id, num_recommendations, Threshold_of_similar_users,\n",
    "            Rating_df, Movies_df)\n",
    "        display(collaborative_based_recommender_system)\n",
    "\n",
    "\n",
    "    display(movies_accordion)\n",
    "\n",
    "\n",
    "    button = widgets.Button(description=\"Get Recommendations\")\n",
    "    button.on_click(lambda button: get_recommendations())\n",
    "    display(button)"
   ]
  },
  {
   "cell_type": "markdown",
   "id": "b6cce574",
   "metadata": {},
   "source": [
    "**Now concatenating all the GUI interface function to build the MOVIE RECOMMENDER SYSTEM**"
   ]
  },
  {
   "cell_type": "code",
   "execution_count": 28,
   "id": "ba0868fd",
   "metadata": {},
   "outputs": [
    {
     "data": {
      "application/vnd.jupyter.widget-view+json": {
       "model_id": "42ab983579d44094ae2369bb8893601d",
       "version_major": 2,
       "version_minor": 0
      },
      "text/plain": [
       "Combobox(value='', description='Recommender_system:', options=('popularity_based_recommender_system', 'content…"
      ]
     },
     "metadata": {},
     "output_type": "display_data"
    },
    {
     "name": "stdout",
     "output_type": "stream",
     "text": [
      "Selected value: popularity_based_recommender_system\n"
     ]
    },
    {
     "data": {
      "application/vnd.jupyter.widget-view+json": {
       "model_id": "f127aa1c589749ccade078cc8e16edd6",
       "version_major": 2,
       "version_minor": 0
      },
      "text/plain": [
       "Accordion(children=(Combobox(value='', description='Genres:', options=('Action', 'Adventure', 'Animation', 'Ch…"
      ]
     },
     "metadata": {},
     "output_type": "display_data"
    },
    {
     "data": {
      "application/vnd.jupyter.widget-view+json": {
       "model_id": "77119bcfc2574033b5bfbe826df4b614",
       "version_major": 2,
       "version_minor": 0
      },
      "text/plain": [
       "Button(description='Get Recommendations', style=ButtonStyle())"
      ]
     },
     "metadata": {},
     "output_type": "display_data"
    },
    {
     "name": "stdout",
     "output_type": "stream",
     "text": [
      "Selected genre: Mystery\n",
      "Selected num of Recommendations: 4\n",
      "Selected min Reviews: 10\n"
     ]
    },
    {
     "data": {
      "text/html": [
       "<div>\n",
       "<style scoped>\n",
       "    .dataframe tbody tr th:only-of-type {\n",
       "        vertical-align: middle;\n",
       "    }\n",
       "\n",
       "    .dataframe tbody tr th {\n",
       "        vertical-align: top;\n",
       "    }\n",
       "\n",
       "    .dataframe thead th {\n",
       "        text-align: right;\n",
       "    }\n",
       "</style>\n",
       "<table border=\"1\" class=\"dataframe\">\n",
       "  <thead>\n",
       "    <tr style=\"text-align: right;\">\n",
       "      <th></th>\n",
       "      <th>movieId</th>\n",
       "      <th>avg_rating</th>\n",
       "      <th>total_ratings</th>\n",
       "      <th>popularity</th>\n",
       "      <th>title</th>\n",
       "    </tr>\n",
       "  </thead>\n",
       "  <tbody>\n",
       "    <tr>\n",
       "      <th>0</th>\n",
       "      <td>50</td>\n",
       "      <td>4.328947</td>\n",
       "      <td>228</td>\n",
       "      <td>987.0</td>\n",
       "      <td>Usual Suspects, The (1995)</td>\n",
       "    </tr>\n",
       "    <tr>\n",
       "      <th>1</th>\n",
       "      <td>32</td>\n",
       "      <td>3.939614</td>\n",
       "      <td>207</td>\n",
       "      <td>815.5</td>\n",
       "      <td>Twelve Monkeys (a.k.a. 12 Monkeys) (1995)</td>\n",
       "    </tr>\n",
       "    <tr>\n",
       "      <th>2</th>\n",
       "      <td>47</td>\n",
       "      <td>4.130102</td>\n",
       "      <td>196</td>\n",
       "      <td>809.5</td>\n",
       "      <td>Seven (a.k.a. Se7en) (1995)</td>\n",
       "    </tr>\n",
       "    <tr>\n",
       "      <th>3</th>\n",
       "      <td>2762</td>\n",
       "      <td>4.130890</td>\n",
       "      <td>191</td>\n",
       "      <td>789.0</td>\n",
       "      <td>Sixth Sense, The (1999)</td>\n",
       "    </tr>\n",
       "  </tbody>\n",
       "</table>\n",
       "</div>"
      ],
      "text/plain": [
       "   movieId  avg_rating  total_ratings  popularity  \\\n",
       "0       50    4.328947            228       987.0   \n",
       "1       32    3.939614            207       815.5   \n",
       "2       47    4.130102            196       809.5   \n",
       "3     2762    4.130890            191       789.0   \n",
       "\n",
       "                                       title  \n",
       "0                 Usual Suspects, The (1995)  \n",
       "1  Twelve Monkeys (a.k.a. 12 Monkeys) (1995)  \n",
       "2                Seven (a.k.a. Se7en) (1995)  \n",
       "3                    Sixth Sense, The (1999)  "
      ]
     },
     "metadata": {},
     "output_type": "display_data"
    },
    {
     "name": "stdout",
     "output_type": "stream",
     "text": [
      "Selected value is not recognized.\n",
      "Selected value: content_based_recommender_system\n"
     ]
    },
    {
     "data": {
      "application/vnd.jupyter.widget-view+json": {
       "model_id": "b10d4612b795472197bb8fae52488508",
       "version_major": 2,
       "version_minor": 0
      },
      "text/plain": [
       "Accordion(children=(Combobox(value='', description='Movie Title:', options=('Toy Story (1995)', 'Jumanji (1995…"
      ]
     },
     "metadata": {},
     "output_type": "display_data"
    },
    {
     "data": {
      "application/vnd.jupyter.widget-view+json": {
       "model_id": "e6c68702bba64825bfbda21059f9243e",
       "version_major": 2,
       "version_minor": 0
      },
      "text/plain": [
       "Button(description='Get Recommendations', style=ButtonStyle())"
      ]
     },
     "metadata": {},
     "output_type": "display_data"
    },
    {
     "name": "stdout",
     "output_type": "stream",
     "text": [
      "Selected genre: Grumpier Old Men (1995)\n",
      "Selected num of Recommendations: 4\n"
     ]
    },
    {
     "data": {
      "text/html": [
       "<div>\n",
       "<style scoped>\n",
       "    .dataframe tbody tr th:only-of-type {\n",
       "        vertical-align: middle;\n",
       "    }\n",
       "\n",
       "    .dataframe tbody tr th {\n",
       "        vertical-align: top;\n",
       "    }\n",
       "\n",
       "    .dataframe thead th {\n",
       "        text-align: right;\n",
       "    }\n",
       "</style>\n",
       "<table border=\"1\" class=\"dataframe\">\n",
       "  <thead>\n",
       "    <tr style=\"text-align: right;\">\n",
       "      <th></th>\n",
       "      <th>Recommended Movie</th>\n",
       "    </tr>\n",
       "  </thead>\n",
       "  <tbody>\n",
       "    <tr>\n",
       "      <th>0</th>\n",
       "      <td>Waiting to Exhale (1995)</td>\n",
       "    </tr>\n",
       "    <tr>\n",
       "      <th>1</th>\n",
       "      <td>Sabrina (1995)</td>\n",
       "    </tr>\n",
       "    <tr>\n",
       "      <th>2</th>\n",
       "      <td>American President, The (1995)</td>\n",
       "    </tr>\n",
       "    <tr>\n",
       "      <th>3</th>\n",
       "      <td>Clueless (1995)</td>\n",
       "    </tr>\n",
       "  </tbody>\n",
       "</table>\n",
       "</div>"
      ],
      "text/plain": [
       "                Recommended Movie\n",
       "0        Waiting to Exhale (1995)\n",
       "1                  Sabrina (1995)\n",
       "2  American President, The (1995)\n",
       "3                 Clueless (1995)"
      ]
     },
     "metadata": {},
     "output_type": "display_data"
    },
    {
     "name": "stdout",
     "output_type": "stream",
     "text": [
      "Selected value is not recognized.\n",
      "Selected value: collaborative_based_recommender_system\n"
     ]
    },
    {
     "data": {
      "application/vnd.jupyter.widget-view+json": {
       "model_id": "5a74b66f5e1e4b2080328dad4df7c0f9",
       "version_major": 2,
       "version_minor": 0
      },
      "text/plain": [
       "Accordion(children=(IntText(value=0, description='User_Id:'), ToggleButtons(description='Num Recommendations:'…"
      ]
     },
     "metadata": {},
     "output_type": "display_data"
    },
    {
     "data": {
      "application/vnd.jupyter.widget-view+json": {
       "model_id": "6e7332108faa44798191352e17b37520",
       "version_major": 2,
       "version_minor": 0
      },
      "text/plain": [
       "Button(description='Get Recommendations', style=ButtonStyle())"
      ]
     },
     "metadata": {},
     "output_type": "display_data"
    },
    {
     "name": "stdout",
     "output_type": "stream",
     "text": [
      "Selected Integer Value is: 5\n",
      "Selected num of Recommendations: 4\n",
      "Selected min Reviews: 10\n"
     ]
    }
   ],
   "source": [
    "# Create a Combobox widget\n",
    "recommender_system = widgets.Combobox(description='Recommender_system:', options=[\n",
    "    'popularity_based_recommender_system',\n",
    "    'content_based_recommender_system',\n",
    "    'collaborative_based_recommender_system'])\n",
    "\n",
    "# Define a callback function to handle changes in the Combobox value\n",
    "def on_combobox_change(change):\n",
    "    selected_value = change['new']\n",
    "    if selected_value == 'popularity_based_recommender_system':\n",
    "        print(\"Selected value:\", selected_value)\n",
    "        print_popularity_based_recommender_system()\n",
    "    \n",
    "    elif selected_value == 'content_based_recommender_system':\n",
    "        print(\"Selected value:\", selected_value)\n",
    "        print_content_based_recommender_system()\n",
    "        \n",
    "    elif selected_value == 'collaborative_based_recommender_system':\n",
    "        print(\"Selected value:\", selected_value)\n",
    "        print_collaborative_based_recommender_system()\n",
    "        \n",
    "    else:\n",
    "        print(\"Selected value is not recognized.\")\n",
    "\n",
    "# Register the callback function to observe changes in the Combobox value\n",
    "recommender_system.observe(on_combobox_change, names='value')\n",
    "\n",
    "# Display the Combobox widget\n",
    "display(recommender_system)"
   ]
  },
  {
   "cell_type": "markdown",
   "id": "980cce09",
   "metadata": {},
   "source": [
    "# END OF FINAL PROJECT"
   ]
  },
  {
   "cell_type": "markdown",
   "id": "1884b7c3",
   "metadata": {},
   "source": [
    "**SUBMITTED BY:-SUBHASHREE SATAPATHY**"
   ]
  },
  {
   "cell_type": "code",
   "execution_count": null,
   "id": "c0ef9957",
   "metadata": {},
   "outputs": [],
   "source": []
  }
 ],
 "metadata": {
  "kernelspec": {
   "display_name": "Python 3 (ipykernel)",
   "language": "python",
   "name": "python3"
  },
  "language_info": {
   "codemirror_mode": {
    "name": "ipython",
    "version": 3
   },
   "file_extension": ".py",
   "mimetype": "text/x-python",
   "name": "python",
   "nbconvert_exporter": "python",
   "pygments_lexer": "ipython3",
   "version": "3.11.4"
  }
 },
 "nbformat": 4,
 "nbformat_minor": 5
}
